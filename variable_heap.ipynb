{
 "cells": [
  {
   "cell_type": "code",
   "execution_count": 1,
   "id": "232169eb",
   "metadata": {},
   "outputs": [],
   "source": [
    "class VariableHeap():\n",
    "    def __init__(self,filename,columns): #ex: columns=['name','age','phoneNumber']\n",
    "        self.db=''\n",
    "        self.db+='|'\n",
    "        self.n_access=0\n",
    "        self.columns=columns\n",
    "        self.insert(self.columns)\n",
    "        self.filename=filename\n",
    "            \n",
    "    def write(self):\n",
    "        with open(filename+'.txt', \"w\") as file:\n",
    "            file.write(self.db)\n",
    "        self.n_access+=1\n",
    "        \n",
    "    def read(self):\n",
    "        with open(filename+'.txt','r') as file:\n",
    "            self.db=file.read()\n",
    "        self.n_access+=1\n",
    "        return self.db\n",
    "        \n",
    "    def insert(self,register,write=True):\n",
    "        if len(register)==len(self.columns):\n",
    "            for reg in register:\n",
    "                self.db+=reg+';'\n",
    "            self.db+='|'\n",
    "        else:\n",
    "            print('As dimensões do registro não batem com o número de colunas.')\n",
    "        if write==True:\n",
    "            self.write()\n",
    "            \n",
    "    def multiple_insert(self,registers):\n",
    "        for register in registers:\n",
    "            self.insert(register,write=False)\n",
    "        self.write()\n",
    "            \n",
    "    def get_key_index(self,key,db):\n",
    "        keys_start=db.find('|')\n",
    "        keys_end=db[keys_start+1:].find('|')+keys_start\n",
    "        keys=db[keys_start+1:keys_end]\n",
    "        keys=keys.split(';')\n",
    "        try:\n",
    "            key_index=keys.index(key)\n",
    "            return key_index,keys_end+2\n",
    "        except:\n",
    "            print('Não existe nenhuma coluna \"{}\".'.format(key))\n",
    "            \n",
    "    def select_by_value(self,key,value):\n",
    "        self.db=self.read()\n",
    "        try:\n",
    "            key,register_start=self.get_key_index(key,self.db)\n",
    "        except:\n",
    "            return\n",
    "        register_end=register_start+self.db[register_start:].find('|')\n",
    "        selected_registers=[]\n",
    "        while True:\n",
    "            current_register=self.db[register_start:register_end]\n",
    "            if current_register=='':\n",
    "                return selected_registers\n",
    "            if current_register.split(';')[key]==value:\n",
    "                selected_registers.append(current_register)\n",
    "            register_start=register_end+1\n",
    "            register_end=register_start+self.db[register_start:].find('|')\n",
    "            \n",
    "    def select_by_list_of_values(self,key,values):\n",
    "        self.db=self.read()\n",
    "        try:\n",
    "            key,register_start=self.get_key_index(key,self.db)\n",
    "        except:\n",
    "            return\n",
    "        register_end=register_start+self.db[register_start:].find('|')\n",
    "        selected_registers=[]\n",
    "        while True:\n",
    "            current_register=self.db[register_start:register_end]\n",
    "            if current_register=='':\n",
    "                return selected_registers\n",
    "            if current_register.split(';')[key] in (values):\n",
    "                selected_registers.append(current_register)\n",
    "            register_start=register_end+1\n",
    "            register_end=register_start+self.db[register_start:].find('|')\n",
    "            \n",
    "    def select_between(self,key,min_value,max_value):\n",
    "        self.db=self.read()\n",
    "        try:\n",
    "            key,register_start=self.get_key_index(key,self.db)\n",
    "        except:\n",
    "            return\n",
    "        register_end=register_start+self.db[register_start:].find('|')\n",
    "        selected_registers=[]\n",
    "        while True:\n",
    "            current_register=self.db[register_start:register_end]\n",
    "            if current_register=='':\n",
    "                return selected_registers\n",
    "            try:\n",
    "                if float(current_register.split(';')[key]) >= float(min_value):\n",
    "                    if float(current_register.split(';')[key])<= float(max_value):\n",
    "                        selected_registers.append(current_register)\n",
    "            except:\n",
    "                print('A chave selecionada precisa ser numérica.')\n",
    "                return\n",
    "            register_start=register_end+1\n",
    "            register_end=register_start+self.db[register_start:].find('|')\n",
    "            \n",
    "    def delete(self,key,values):\n",
    "        selected_registers=self.select_by_list_of_values(key,values)\n",
    "        for register in selected_registers:\n",
    "            self.db=self.db.replace(register+'|','')\n",
    "        self.write()"
   ]
  },
  {
   "cell_type": "code",
   "execution_count": 2,
   "id": "d29a1f32",
   "metadata": {},
   "outputs": [],
   "source": [
    "filename='db'\n",
    "db=VariableHeap(filename,['nome','cpf','idade','cidade'])"
   ]
  },
  {
   "cell_type": "code",
   "execution_count": 3,
   "id": "ebf4b429",
   "metadata": {},
   "outputs": [
    {
     "data": {
      "text/plain": [
       "'|nome;cpf;idade;cidade;|'"
      ]
     },
     "execution_count": 3,
     "metadata": {},
     "output_type": "execute_result"
    }
   ],
   "source": [
    "db.read()"
   ]
  },
  {
   "cell_type": "code",
   "execution_count": 4,
   "id": "82606f77",
   "metadata": {},
   "outputs": [
    {
     "data": {
      "text/plain": [
       "2"
      ]
     },
     "execution_count": 4,
     "metadata": {},
     "output_type": "execute_result"
    }
   ],
   "source": [
    "db.n_access"
   ]
  },
  {
   "cell_type": "code",
   "execution_count": 5,
   "id": "68215774",
   "metadata": {},
   "outputs": [],
   "source": [
    "db.insert(['Vinícius Rabello','123456789-00','22','Rio de Janeiro'])\n",
    "db.multiple_insert([['Felipe Patitucci','222222333-55','21','Rio de Janeiro'],['Ruan Felipe','000011111-33','23','Rio de Janeiro']])"
   ]
  },
  {
   "cell_type": "code",
   "execution_count": 6,
   "id": "6bafb6b9",
   "metadata": {},
   "outputs": [
    {
     "data": {
      "text/plain": [
       "['Vinícius Rabello;123456789-00;22;Rio de Janeiro;']"
      ]
     },
     "execution_count": 6,
     "metadata": {},
     "output_type": "execute_result"
    }
   ],
   "source": [
    "db.select_by_value('nome','Vinícius Rabello')"
   ]
  },
  {
   "cell_type": "code",
   "execution_count": 7,
   "id": "a5be99d1",
   "metadata": {},
   "outputs": [
    {
     "data": {
      "text/plain": [
       "['Vinícius Rabello;123456789-00;22;Rio de Janeiro;',\n",
       " 'Felipe Patitucci;222222333-55;21;Rio de Janeiro;',\n",
       " 'Ruan Felipe;000011111-33;23;Rio de Janeiro;']"
      ]
     },
     "execution_count": 7,
     "metadata": {},
     "output_type": "execute_result"
    }
   ],
   "source": [
    "db.select_by_value('cidade','Rio de Janeiro')"
   ]
  },
  {
   "cell_type": "code",
   "execution_count": 8,
   "id": "5c53d684",
   "metadata": {},
   "outputs": [
    {
     "data": {
      "text/plain": [
       "['Vinícius Rabello;123456789-00;22;Rio de Janeiro;',\n",
       " 'Felipe Patitucci;222222333-55;21;Rio de Janeiro;']"
      ]
     },
     "execution_count": 8,
     "metadata": {},
     "output_type": "execute_result"
    }
   ],
   "source": [
    "db.select_by_list_of_values('idade',['21','22'])"
   ]
  },
  {
   "cell_type": "code",
   "execution_count": 9,
   "id": "22902885",
   "metadata": {},
   "outputs": [
    {
     "data": {
      "text/plain": [
       "['Vinícius Rabello;123456789-00;22;Rio de Janeiro;',\n",
       " 'Ruan Felipe;000011111-33;23;Rio de Janeiro;']"
      ]
     },
     "execution_count": 9,
     "metadata": {},
     "output_type": "execute_result"
    }
   ],
   "source": [
    "db.select_between('idade',22,23)"
   ]
  },
  {
   "cell_type": "code",
   "execution_count": 10,
   "id": "69a98cf6",
   "metadata": {},
   "outputs": [],
   "source": [
    "db.delete('nome',['Vinícius Rabello'])"
   ]
  },
  {
   "cell_type": "code",
   "execution_count": 11,
   "id": "5a207e14",
   "metadata": {},
   "outputs": [
    {
     "data": {
      "text/plain": [
       "'|nome;cpf;idade;cidade;|Felipe Patitucci;222222333-55;21;Rio de Janeiro;|Ruan Felipe;000011111-33;23;Rio de Janeiro;|'"
      ]
     },
     "execution_count": 11,
     "metadata": {},
     "output_type": "execute_result"
    }
   ],
   "source": [
    "db.db"
   ]
  },
  {
   "cell_type": "code",
   "execution_count": null,
   "id": "40da7cc7",
   "metadata": {},
   "outputs": [],
   "source": []
  },
  {
   "cell_type": "code",
   "execution_count": null,
   "id": "577a6e3a",
   "metadata": {},
   "outputs": [],
   "source": []
  }
 ],
 "metadata": {
  "kernelspec": {
   "display_name": "Python 3 (ipykernel)",
   "language": "python",
   "name": "python3"
  },
  "language_info": {
   "codemirror_mode": {
    "name": "ipython",
    "version": 3
   },
   "file_extension": ".py",
   "mimetype": "text/x-python",
   "name": "python",
   "nbconvert_exporter": "python",
   "pygments_lexer": "ipython3",
   "version": "3.9.13"
  }
 },
 "nbformat": 4,
 "nbformat_minor": 5
}
